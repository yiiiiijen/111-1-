{
 "cells": [
  {
   "cell_type": "code",
   "execution_count": null,
   "id": "9eae4654",
   "metadata": {},
   "outputs": [],
   "source": [
    "#https://github.com/pecu/PL/blob/main/Python03.ipynb"
   ]
  },
  {
   "cell_type": "code",
   "execution_count": null,
   "id": "ca6153f3",
   "metadata": {},
   "outputs": [],
   "source": [
    "\"XML_Head\": {\n",
    "    \"Listname\": \"4\",\n",
    "    \"Language\": \"C\",\n",
    "    \"Orgname\": \"315080000H\",\n",
    "    \"Updatetime\": \"2022-10-06T01:51:06+08:00\",\n",
    "    \"Infos\": {\n",
    "      \"Info\": [\n",
    "        {\n",
    "          \"Id\": \"C4_315080000H_000008\",\n",
    "          \"Name\": \"思源居民宿\",\n",
    "          \"Description\": \"位於南投縣的民宿\",\n",
    "          \"Grade\": \"\",\n",
    "          \"Add\": \"南投縣埔里鎮水頭里水頭路1號\",\n",
    "          \"Zipcode\": \"545\",\n",
    "          \"Region\": \"南投縣\",\n",
    "          \"Town\": \"埔里鎮\",\n",
    "          \"Tel\": \"886-49-2927101\",\n",
    "          \"Fax\": \"\",\n",
    "          \"Gov\": \"315080000H\",\n",
    "          \"Website\": \"\",\n",
    "          \"Picdescribe1\": \"外觀\",\n",
    "          \"Picture2\": \"\",\n",
    "          \"Picdescribe2\": \"\",\n",
    "          \"Picture3\": \"\",\n",
    "          \"Picdescribe3\": \"\",\n",
    "          \"Px\": 120.970365,\n",
    "          \"Py\": 23.935199,\n",
    "          \"Class\": \"4\",\n",
    "          \"Map\": \"\",\n",
    "          \"Spec\": \"\",\n",
    "          \"Serviceinfo\": \"\",\n",
    "          \"Parkinginfo\": \"車位:小客車0輛、機車0輛、大客車0輛\",\n",
    "          \"TotalNumberofRooms\": 3,\n",
    "          \"LowestPrice\": 2200,\n",
    "          \"CeilingPrice\": 3600,\n",
    "          \"TaiwanHost\": \"0\",\n",
    "          \"IndustryEmail\": \"sss050021@yahoo.com.tw\",\n",
    "          \"TotalNumberofPeople\": 10,\n",
    "          \"AccessibilityRooms\": 0,\n",
    "          \"PublicToilets\": null,\n",
    "          \"LiftingEquipment\": null,\n",
    "          \"ParkingSpace\": 0\n",
    "        },"
   ]
  }
 ],
 "metadata": {
  "kernelspec": {
   "display_name": "Python 3 (ipykernel)",
   "language": "python",
   "name": "python3"
  },
  "language_info": {
   "codemirror_mode": {
    "name": "ipython",
    "version": 3
   },
   "file_extension": ".py",
   "mimetype": "text/x-python",
   "name": "python",
   "nbconvert_exporter": "python",
   "pygments_lexer": "ipython3",
   "version": "3.9.12"
  }
 },
 "nbformat": 4,
 "nbformat_minor": 5
}
