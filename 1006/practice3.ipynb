{
 "cells": [
  {
   "cell_type": "code",
   "execution_count": null,
   "id": "9eae4654",
   "metadata": {},
   "outputs": [],
   "source": [
    "#https://github.com/pecu/PL/blob/main/Python03.ipynb"
   ]
  },
  {
   "cell_type": "code",
   "execution_count": 3,
   "id": "ca6153f3",
   "metadata": {},
   "outputs": [
    {
     "data": {
      "text/plain": [
       "{'員工編號': 'M349956', '姓名': '王曉明', '車位': '234', '部別': 3}"
      ]
     },
     "execution_count": 3,
     "metadata": {},
     "output_type": "execute_result"
    }
   ],
   "source": [
    "d = {{\"員工編號\": \"M349956\",\n",
    "          \"姓名\": \"王曉明\",\n",
    "          \"車位\": \"987\",\n",
    "          \"部別\":3}\n",
    "     {\"員工編號\": \"M349956\",\n",
    "          \"姓名\": \"蔡小美\",\n",
    "          \"車位\": \"400\",\n",
    "          \"部別\":3}\n",
    "     {\"員工編號\": \"M349956\",\n",
    "          \"姓名\": \"楊胖胖\",\n",
    "          \"車位\": \"234\",\n",
    "          \"部別\":3}\n",
    "     {\"員工編號\": \"M349956\",\n",
    "          \"姓名\": \"林大大\",\n",
    "          \"車位\": \"389\",\n",
    "          \"部別\":3}\n",
    "     {\"員工編號\": \"M349956\",\n",
    "          \"姓名\": \"謝老闆\",\n",
    "          \"車位\": \"145\",\n",
    "          \"部別\":3}\n",
    "     }\n",
    "d"
   ]
  },
  {
   "cell_type": "code",
   "execution_count": null,
   "id": "f9d29ddf",
   "metadata": {},
   "outputs": [],
   "source": []
  }
 ],
 "metadata": {
  "kernelspec": {
   "display_name": "Python 3 (ipykernel)",
   "language": "python",
   "name": "python3"
  },
  "language_info": {
   "codemirror_mode": {
    "name": "ipython",
    "version": 3
   },
   "file_extension": ".py",
   "mimetype": "text/x-python",
   "name": "python",
   "nbconvert_exporter": "python",
   "pygments_lexer": "ipython3",
   "version": "3.9.12"
  }
 },
 "nbformat": 4,
 "nbformat_minor": 5
}
