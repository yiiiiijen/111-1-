{
 "cells": [
  {
   "cell_type": "code",
   "execution_count": null,
   "id": "9eae4654",
   "metadata": {},
   "outputs": [],
   "source": [
    "#https://github.com/pecu/PL/blob/main/Python03.ipynb"
   ]
  },
  {
   "cell_type": "code",
   "execution_count": 2,
   "id": "ca6153f3",
   "metadata": {},
   "outputs": [
    {
     "ename": "SyntaxError",
     "evalue": "invalid syntax (488650130.py, line 1)",
     "output_type": "error",
     "traceback": [
      "\u001b[1;36m  Input \u001b[1;32mIn [2]\u001b[1;36m\u001b[0m\n\u001b[1;33m    d =\u001b[0m\n\u001b[1;37m        ^\u001b[0m\n\u001b[1;31mSyntaxError\u001b[0m\u001b[1;31m:\u001b[0m invalid syntax\n"
     ]
    }
   ],
   "source": [
    "d = \n",
    "{\n",
    "    {\"員工編號\": \"M349956\",\n",
    "          \"姓名\": \"王曉明\",\n",
    "          \"車位\": \"987\",\n",
    "          \"部別\":{3\n",
    "     }},\n",
    "      \n",
    "     {\"員工編號\": \"M340285\",\n",
    "          \"姓名\": \"蔡小美\",\n",
    "          \"車位\": \"400\",\n",
    "          \"部別\":{3\n",
    "    }},\n",
    "     {\"員工編號\": \"M359026\",\n",
    "          \"姓名\": \"楊胖胖\",\n",
    "          \"車位\": \"234\",\n",
    "          \"部別\":{3\n",
    "    }},\n",
    "     {\"員工編號\": \"M839457\",\n",
    "          \"姓名\": \"林大大\",\n",
    "          \"車位\": \"389\",\n",
    "          \"部別\":{8\n",
    "     }},\n",
    "     {\"員工編號\": \"M001956\",\n",
    "          \"姓名\": \"謝老闆\",\n",
    "          \"車位\": \"145\",\n",
    "          \"部別\":{0\n",
    "     }}\n",
    "}\n",
    "d"
   ]
  },
  {
   "cell_type": "code",
   "execution_count": null,
   "id": "f9d29ddf",
   "metadata": {},
   "outputs": [],
   "source": []
  }
 ],
 "metadata": {
  "kernelspec": {
   "display_name": "Python 3 (ipykernel)",
   "language": "python",
   "name": "python3"
  },
  "language_info": {
   "codemirror_mode": {
    "name": "ipython",
    "version": 3
   },
   "file_extension": ".py",
   "mimetype": "text/x-python",
   "name": "python",
   "nbconvert_exporter": "python",
   "pygments_lexer": "ipython3",
   "version": "3.9.12"
  }
 },
 "nbformat": 4,
 "nbformat_minor": 5
}
