{
 "cells": [
  {
   "cell_type": "code",
   "execution_count": null,
   "id": "a8b6adff",
   "metadata": {},
   "outputs": [],
   "source": [
    "#json #https://www.geeksforgeeks.org/read-json-file-using-python/\n",
    "#dict #https://medium.com/ccclub/ccclub-python-for-beginners-tutorial-533b8d8d96f3\n",
    "#資料 #https://data.gov.tw/dataset/7780"
   ]
  },
  {
   "cell_type": "code",
   "execution_count": 2,
   "id": "07afb98c",
   "metadata": {},
   "outputs": [],
   "source": [
    "import json\n"
   ]
  },
  {
   "cell_type": "code",
   "execution_count": null,
   "id": "c88dcf91",
   "metadata": {},
   "outputs": [],
   "source": []
  }
 ],
 "metadata": {
  "kernelspec": {
   "display_name": "Python 3 (ipykernel)",
   "language": "python",
   "name": "python3"
  },
  "language_info": {
   "codemirror_mode": {
    "name": "ipython",
    "version": 3
   },
   "file_extension": ".py",
   "mimetype": "text/x-python",
   "name": "python",
   "nbconvert_exporter": "python",
   "pygments_lexer": "ipython3",
   "version": "3.9.12"
  }
 },
 "nbformat": 4,
 "nbformat_minor": 5
}
