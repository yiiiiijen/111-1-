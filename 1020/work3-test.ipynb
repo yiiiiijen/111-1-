{
 "cells": [
  {
   "cell_type": "code",
   "execution_count": 3,
   "id": "e5403834",
   "metadata": {},
   "outputs": [],
   "source": [
    "#https://shopee.tw/mall/search?keyword=iphone\n",
    "import urllib.request as req\n",
    "import json\n",
    "import pandas as pd\n",
    "url = \"https://shopee.tw/mall/search?keyword=iphone\"\n",
    "request = req.Request(url, headers = {\n",
    "    \"user-agent\":\"Mozilla/5.0 (Windows NT 10.0; Win64; x64) AppleWebKit/537.36 (KHTML, like Gecko) Chrome/107.0.0.0 Safari/537.36\"\n",
    "})\n",
    "with req.urlopen(request) as response:\n",
    "    data = response.read().decode(\"utf-8\")\n",
    "#print (data)  #測試資料輸出"
   ]
  },
  {
   "cell_type": "code",
   "execution_count": 4,
   "id": "d2b8e4fd",
   "metadata": {},
   "outputs": [],
   "source": [
    "import bs4\n",
    "root = bs4.BeautifulSoup(data, \"html.parser\")"
   ]
  },
  {
   "cell_type": "code",
   "execution_count": null,
   "id": "9e0003ce",
   "metadata": {},
   "outputs": [],
   "source": [
    "iphones = root.find_all(\"div\", class_=\"\")\n",
    "print (release_list)"
   ]
  }
 ],
 "metadata": {
  "kernelspec": {
   "display_name": "Python 3 (ipykernel)",
   "language": "python",
   "name": "python3"
  },
  "language_info": {
   "codemirror_mode": {
    "name": "ipython",
    "version": 3
   },
   "file_extension": ".py",
   "mimetype": "text/x-python",
   "name": "python",
   "nbconvert_exporter": "python",
   "pygments_lexer": "ipython3",
   "version": "3.9.12"
  }
 },
 "nbformat": 4,
 "nbformat_minor": 5
}
