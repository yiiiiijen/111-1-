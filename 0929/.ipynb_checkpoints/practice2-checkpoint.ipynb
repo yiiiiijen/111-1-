{
 "cells": [
  {
   "cell_type": "code",
   "execution_count": 1,
   "id": "dbfa4690",
   "metadata": {},
   "outputs": [
    {
     "ename": "IndexError",
     "evalue": "list assignment index out of range",
     "output_type": "error",
     "traceback": [
      "\u001b[1;31m---------------------------------------------------------------------------\u001b[0m",
      "\u001b[1;31mIndexError\u001b[0m                                Traceback (most recent call last)",
      "Input \u001b[1;32mIn [1]\u001b[0m, in \u001b[0;36m<cell line: 7>\u001b[1;34m()\u001b[0m\n\u001b[0;32m      5\u001b[0m B\u001b[38;5;241m=\u001b[39mBBQ\u001b[38;5;241m.\u001b[39msplit(\u001b[38;5;124m\"\u001b[39m\u001b[38;5;124m:\u001b[39m\u001b[38;5;124m\"\u001b[39m)\n\u001b[0;32m      6\u001b[0m \u001b[38;5;28;01mdel\u001b[39;00m B[\u001b[38;5;241m0\u001b[39m]\n\u001b[1;32m----> 7\u001b[0m \u001b[38;5;28;01mdel\u001b[39;00m B[\u001b[38;5;241m1\u001b[39m]\n\u001b[0;32m      8\u001b[0m \u001b[38;5;28mprint\u001b[39m(B)\n\u001b[0;32m     10\u001b[0m BB\u001b[38;5;241m=\u001b[39mB[\u001b[38;5;241m0\u001b[39m]\u001b[38;5;241m.\u001b[39msplit(\u001b[38;5;124m\"\u001b[39m\u001b[38;5;124m、\u001b[39m\u001b[38;5;124m\"\u001b[39m)\n",
      "\u001b[1;31mIndexError\u001b[0m: list assignment index out of range"
     ]
    }
   ],
   "source": [
    "#Test1\n",
    "\n",
    "BBQ=\"烤肉所需器材:烤肉架1組、木炭1包、烤網2片、竹筷10雙、紙碗10個、紙杯10個、垃圾袋2個、鐵夾2支、烤肉刷1支\"\n",
    "\n",
    "B=BBQ.split(\":\")\n",
    "del B[0]\n",
    "del B[1]\n",
    "print(B)\n",
    "\n",
    "BB=B[0].split(\"、\")\n",
    "print(BB)\n",
    "\n",
    "del BB[0]\n",
    "BB.insert(0,\"烤肉架1組\")\n",
    "print(BB)"
   ]
  },
  {
   "cell_type": "code",
   "execution_count": 3,
   "id": "6d178e23",
   "metadata": {},
   "outputs": [
    {
     "name": "stdout",
     "output_type": "stream",
     "text": [
      "('豬', '雞', '牛', '羊')\n",
      "[('豬', 4), ('雞', 2), ('牛', 5), ('羊', 3)]\n"
     ]
    }
   ],
   "source": [
    "#Test2\n",
    "\n",
    "list1=\"豬\",\"雞\",\"牛\",\"羊\",\"海鮮\"\n",
    "list2=4,2,5,3,1\n",
    "\n",
    "lis=list1[:4]\n",
    "print(lis)\n",
    "\n",
    "nlis=zip(lis,list2)\n",
    "print(list(nlis))"
   ]
  },
  {
   "cell_type": "code",
   "execution_count": 7,
   "id": "9fd89712",
   "metadata": {},
   "outputs": [
    {
     "name": "stdout",
     "output_type": "stream",
     "text": [
      "{'鐵網', '羊', '雞', '海鮮', '夾子', '木炭', '豬', '牛'}\n",
      "{'夾子', '鐵網', '豬', '雞'}\n",
      "{'牛'}\n",
      "True\n",
      "True\n"
     ]
    }
   ],
   "source": [
    "#Test3\n",
    "\n",
    "lis1={\"雞\",\"豬\",\"牛\",\"夾子\",\"鐵網\"}\n",
    "lis2={\"牛\",\"海鮮\",\"羊\",\"木炭\"}\n",
    "\n",
    "print(lis1|lis2) #聯集\n",
    "\n",
    "print(lis1-lis2) #lis2缺少的東西\n",
    "\n",
    "print(lis1&lis2) #交集\n",
    "\n",
    "print(\"牛\" in lis1)\n",
    "print(\"牛\" in lis2)"
   ]
  },
  {
   "cell_type": "code",
   "execution_count": 2,
   "id": "b01ad245",
   "metadata": {},
   "outputs": [
    {
     "ename": "SyntaxError",
     "evalue": "invalid character '、' (U+3001) (2789525724.py, line 3)",
     "output_type": "error",
     "traceback": [
      "\u001b[1;36m  Input \u001b[1;32mIn [2]\u001b[1;36m\u001b[0m\n\u001b[1;33m    al={\"烤肉器具\":[\"烤肉架1組\"、\"木炭1包\"、\"烤網2片\"、\"竹筷10雙\"、\"紙碗10個\"、\"紙杯10個\"、\"垃圾袋2個\"、\"鐵夾2支\"、\"烤肉刷1支\"],\u001b[0m\n\u001b[1;37m                       ^\u001b[0m\n\u001b[1;31mSyntaxError\u001b[0m\u001b[1;31m:\u001b[0m invalid character '、' (U+3001)\n"
     ]
    }
   ],
   "source": [
    "#Test4\n",
    "\n",
    "al={\"烤肉器具\":[\"烤肉架1組\"、\"木炭1包\"、\"烤網2片\"、\"竹筷10雙\"、\"紙碗10個\"、\"紙杯10個\"、\"垃圾袋2個\"、\"鐵夾2支\"、\"烤肉刷1支\"],\n",
    "    \"烤肉食材\":[\"豬五花500g\"、\"牛五花500g\"、\"醃漬雞翅10隻\"、\"筊白筍\"、\"金針菇\"、\"絲瓜\"、\"玉米筍\"、\"洋蔥\"、\"櫛瓜\"、\"蝦子10隻\"、\"甜不辣10片\"、\"骰子牛500g\"、\"豬梅花500g\"]}\n",
    "\n",
    "lis1=list(al.keys())\n",
    "print(l1s1)\n",
    "\n",
    "lis2=list(al.values())\n",
    "print(l1s2)\n",
    "\n",
    "print(al[\"烤肉器具\"][3])\n",
    "\n",
    "al[\"烤肉食材\"]=[\"豬五花500g\"、\"牛五花500g\"、\"醃漬雞翅10隻\"、\"筊白筍\"、\"金針菇\"、\"絲瓜\"、\"玉米筍\"、\"洋蔥\"、\"櫛瓜\"、\"蝦子10隻\"、\"甜不辣10片\"、\"骰子牛500g\"、\"豬梅花500g\"]\n",
    "print(al)\n"
   ]
  },
  {
   "cell_type": "code",
   "execution_count": null,
   "id": "4a1da303",
   "metadata": {},
   "outputs": [],
   "source": []
  }
 ],
 "metadata": {
  "kernelspec": {
   "display_name": "Python 3 (ipykernel)",
   "language": "python",
   "name": "python3"
  },
  "language_info": {
   "codemirror_mode": {
    "name": "ipython",
    "version": 3
   },
   "file_extension": ".py",
   "mimetype": "text/x-python",
   "name": "python",
   "nbconvert_exporter": "python",
   "pygments_lexer": "ipython3",
   "version": "3.9.12"
  }
 },
 "nbformat": 4,
 "nbformat_minor": 5
}
