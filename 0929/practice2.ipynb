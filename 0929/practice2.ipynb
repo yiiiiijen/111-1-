{
 "cells": [
  {
   "cell_type": "code",
   "execution_count": null,
   "id": "c88efd43",
   "metadata": {
    "scrolled": true
   },
   "outputs": [],
   "source": []
  },
  {
   "cell_type": "code",
   "execution_count": 7,
   "id": "dbfa4690",
   "metadata": {},
   "outputs": [
    {
     "ename": "IndexError",
     "evalue": "list assignment index out of range",
     "output_type": "error",
     "traceback": [
      "\u001b[1;31m---------------------------------------------------------------------------\u001b[0m",
      "\u001b[1;31mIndexError\u001b[0m                                Traceback (most recent call last)",
      "Input \u001b[1;32mIn [7]\u001b[0m, in \u001b[0;36m<cell line: 7>\u001b[1;34m()\u001b[0m\n\u001b[0;32m      5\u001b[0m B\u001b[38;5;241m=\u001b[39ms\u001b[38;5;241m.\u001b[39msplit(\u001b[38;5;124m\"\u001b[39m\u001b[38;5;124m:\u001b[39m\u001b[38;5;124m\"\u001b[39m)\n\u001b[0;32m      6\u001b[0m \u001b[38;5;28;01mdel\u001b[39;00m B[\u001b[38;5;241m0\u001b[39m]\n\u001b[1;32m----> 7\u001b[0m \u001b[38;5;28;01mdel\u001b[39;00m B[\u001b[38;5;241m1\u001b[39m]\n\u001b[0;32m      8\u001b[0m \u001b[38;5;28mprint\u001b[39m(B)\n\u001b[0;32m     10\u001b[0m BB\u001b[38;5;241m=\u001b[39mB[\u001b[38;5;241m0\u001b[39m]\u001b[38;5;241m.\u001b[39msplit(\u001b[38;5;124m\"\u001b[39m\u001b[38;5;124m、\u001b[39m\u001b[38;5;124m\"\u001b[39m)\n",
      "\u001b[1;31mIndexError\u001b[0m: list assignment index out of range"
     ]
    }
   ],
   "source": [
    "#Test1\n",
    "\n",
    "BBQ=\"烤肉所需器材:烤肉架1組、木炭1包、烤網2片、竹筷10雙、紙碗10個、紙杯10個、垃圾袋2個、鐵夾2支、烤肉刷1支\"\n",
    "\n",
    "B=s.split(\":\")\n",
    "del B[0]\n",
    "del B[1]\n",
    "print(B)\n",
    "\n",
    "BB=B[0].split(\"、\")\n",
    "print(BB)\n",
    "\n",
    "del BB[0]\n",
    "BB.insert(0,\"烤肉架1組\")\n",
    "print(BB)"
   ]
  },
  {
   "cell_type": "code",
   "execution_count": 2,
   "id": "c9e67302",
   "metadata": {},
   "outputs": [
    {
     "name": "stdout",
     "output_type": "stream",
     "text": [
      "('最高法院民事判例', '最高法院刑事判例', '行政法院判例')\n",
      "[('最高法院民事判例', 7), ('最高法院刑事判例', 3), ('行政法院判例', 5)]\n"
     ]
    }
   ],
   "source": [
    "#練習 0202\n",
    "\n",
    "t1=\"最高法院民事判例\",\"最高法院刑事判例\",\"行政法院判例\",\"大法官解釋\"\n",
    "t2=7,3,5,4\n",
    "\n",
    "t=t1[:3]\n",
    "print(t)\n",
    "\n",
    "z=zip(t,t2)\n",
    "print(list(z))"
   ]
  },
  {
   "cell_type": "code",
   "execution_count": 3,
   "id": "b9e0e3e4",
   "metadata": {},
   "outputs": [
    {
     "name": "stdout",
     "output_type": "stream",
     "text": [
      "{'沒收', '罰金', '無期徒刑', '褫奪公權', '有期徒刑'}\n",
      "{'無期徒刑', '褫奪公權'}\n",
      "{'罰金'}\n",
      "True\n",
      "True\n"
     ]
    }
   ],
   "source": [
    "#練習 0203\n",
    "\n",
    "s1={\"有期徒刑\",\"沒收\",\"罰金\"}\n",
    "s2={\"無期徒刑\",\"罰金\",\"褫奪公權\"}\n",
    "\n",
    "print(s1|s2)\n",
    "\n",
    "print(s2-s1)\n",
    "\n",
    "print(s1&s2)\n",
    "print(\"罰金\" in s1)\n",
    "print(\"罰金\" in s2)"
   ]
  },
  {
   "cell_type": "code",
   "execution_count": 4,
   "id": "915ea650",
   "metadata": {},
   "outputs": [
    {
     "name": "stdout",
     "output_type": "stream",
     "text": [
      "['刑事訴訟法', '中華民國刑法']\n",
      "[['第159條之4', '第159條之5', '第159條之1', '第267條', '第299條第1項', '第302條第1款'], ['第11條', '第38條第1項第1款', '第42條第3項', '第55條', '第56條', '第57條', '第59條']]\n",
      "第267條\n",
      "{'刑事訴訟法': ['第159條之4', '第159條之5', '第159條之1', '第267條', '第299條第1項', '第302條第1款'], '中華民國刑法': ['第11條', '第38條第1項第1款', '第42條第3項', '第55條', '第56條', '第57條', '第59條', '第62條']}\n"
     ]
    }
   ],
   "source": [
    "#練習 0204\n",
    "\n",
    "d={\"刑事訴訟法\":[\"第159條之4\",\"第159條之5\",\"第159條之1\",\"第267條\",\"第299條第1項\",\"第302條第1款\"],\n",
    "   \"中華民國刑法\":[\"第11條\",\"第38條第1項第1款\",\"第42條第3項\",\"第55條\",\"第56條\",\"第57條\",\"第59條\"]}\n",
    "\n",
    "\n",
    "l1=list(d.keys())\n",
    "print(l1)\n",
    "l2=list(d.values())\n",
    "print(l2)\n",
    "\n",
    "\n",
    "print(d[\"刑事訴訟法\"][3])\n",
    "\n",
    "d[\"中華民國刑法\"]=[\"第11條\",\"第38條第1項第1款\",\"第42條第3項\",\"第55條\",\"第56條\",\"第57條\",\"第59條\",\"第62條\"]\n",
    "print(d)"
   ]
  },
  {
   "cell_type": "code",
   "execution_count": null,
   "id": "b01ad245",
   "metadata": {},
   "outputs": [],
   "source": []
  }
 ],
 "metadata": {
  "kernelspec": {
   "display_name": "Python 3 (ipykernel)",
   "language": "python",
   "name": "python3"
  },
  "language_info": {
   "codemirror_mode": {
    "name": "ipython",
    "version": 3
   },
   "file_extension": ".py",
   "mimetype": "text/x-python",
   "name": "python",
   "nbconvert_exporter": "python",
   "pygments_lexer": "ipython3",
   "version": "3.9.12"
  }
 },
 "nbformat": 4,
 "nbformat_minor": 5
}
