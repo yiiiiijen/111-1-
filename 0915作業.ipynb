{
 "cells": [
  {
   "cell_type": "code",
   "execution_count": 1,
   "id": "299a3f8b",
   "metadata": {},
   "outputs": [
    {
     "name": "stdout",
     "output_type": "stream",
     "text": [
      "根據 : 道路交通管理處罰條例第35條第4項﹑第67條\n",
      "事件 : 行車糾紛\n",
      "原告需賠償金額: 7706\n",
      "被告需賠償金額: 17981\n"
     ]
    }
   ],
   "source": [
    "#Q1\n",
    "fine=25688\n",
    "violate_law=\"道路交通管理處罰條例第35條第4項﹑第67條\"\n",
    "rate1=0.3\n",
    "rate2=0.7\n",
    "fine1=fine*0.3\n",
    "fine2=fine*0.7\n",
    "print(\"根據 :\",violate_law)\n",
    "print(\"事件 : 行車糾紛\")\n",
    "print(\"原告需賠償金額:\",int(fine1))\n",
    "print(\"被告需賠償金額:\",int(fine2))"
   ]
  },
  {
   "cell_type": "code",
   "execution_count": 8,
   "id": "1b1fe2a3",
   "metadata": {},
   "outputs": [
    {
     "name": "stdout",
     "output_type": "stream",
     "text": [
      "被告總償還金額: 12608\n"
     ]
    }
   ],
   "source": [
    "#Q2\n",
    "fee = 11805\n",
    "interest = 0.0005\n",
    "month1 = 150\n",
    "month2 = 300\n",
    "penalty = (month1+month2)\n",
    "total = (fee*(1+interest)**59+penalty)\n",
    "print(\"被告總償還金額:\",int(total))"
   ]
  },
  {
   "cell_type": "code",
   "execution_count": 13,
   "id": "4a1b7dc4",
   "metadata": {},
   "outputs": [
    {
     "name": "stdout",
     "output_type": "stream",
     "text": [
      "案件名稱 :原告闖紅燈\n",
      "原告多,被告少\n"
     ]
    }
   ],
   "source": [
    "#Q3\n",
    "case=input(\"案件名稱 :\")\n",
    "\n",
    "if case ==\"被告闖紅燈\":\n",
    "    print(\"被告賠100%\")\n",
    "elif case ==\"原告闖紅燈\":\n",
    "    print(\"原告多,被告少\")\n",
    "elif case ==\"原告﹑被告皆闖紅燈\":\n",
    "    print(\"原告50%,被告50%\")\n",
    "else:\n",
    "    print(\"請填入有效訊息\")"
   ]
  },
  {
   "cell_type": "code",
   "execution_count": null,
   "id": "04d5f589",
   "metadata": {},
   "outputs": [],
   "source": []
  }
 ],
 "metadata": {
  "kernelspec": {
   "display_name": "Python 3 (ipykernel)",
   "language": "python",
   "name": "python3"
  },
  "language_info": {
   "codemirror_mode": {
    "name": "ipython",
    "version": 3
   },
   "file_extension": ".py",
   "mimetype": "text/x-python",
   "name": "python",
   "nbconvert_exporter": "python",
   "pygments_lexer": "ipython3",
   "version": "3.9.12"
  }
 },
 "nbformat": 4,
 "nbformat_minor": 5
}
